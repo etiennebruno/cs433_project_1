{
 "cells": [
  {
   "cell_type": "markdown",
   "metadata": {},
   "source": [
    "# REGULARIZED LOGISTIC REGRESSION"
   ]
  },
  {
   "cell_type": "markdown",
   "metadata": {},
   "source": [
    "### imports"
   ]
  },
  {
   "cell_type": "code",
   "execution_count": 24,
   "metadata": {},
   "outputs": [
    {
     "name": "stdout",
     "output_type": "stream",
     "text": [
      "The autoreload extension is already loaded. To reload it, use:\n",
      "  %reload_ext autoreload\n"
     ]
    },
    {
     "data": {
      "text/html": [
       "<style>.container { width:95% !important; }</style>"
      ],
      "text/plain": [
       "<IPython.core.display.HTML object>"
      ]
     },
     "metadata": {},
     "output_type": "display_data"
    }
   ],
   "source": [
    "import numpy as np\n",
    "import matplotlib.pyplot as plt\n",
    "from proj1_helpers import *\n",
    "from implementations import *\n",
    "from IPython.core.display import display, HTML\n",
    "\n",
    "%matplotlib inline\n",
    "%load_ext autoreload\n",
    "%autoreload 2\n",
    "display(HTML(\"<style>.container { width:95% !important; }</style>\"))"
   ]
  },
  {
   "cell_type": "markdown",
   "metadata": {},
   "source": [
    "### constants definition"
   ]
  },
  {
   "cell_type": "code",
   "execution_count": 25,
   "metadata": {},
   "outputs": [],
   "source": [
    "#constants definitions\n",
    "PRI_JET_NUM_IDX = 22   \n",
    "PRI_JET_NUM_VALUES = range(4)\n",
    "NUMBER_GROUPS = len(PRI_JET_NUM_VALUES)\n",
    "NBR_FEATURES = 30\n",
    "UNDEFINED_VALUE = -999."
   ]
  },
  {
   "cell_type": "markdown",
   "metadata": {},
   "source": [
    "### training data : loading and feature engineering"
   ]
  },
  {
   "cell_type": "code",
   "execution_count": 26,
   "metadata": {},
   "outputs": [],
   "source": [
    "#loading the training data\n",
    "DATA_TRAIN_PATH = '../data/train.csv'\n",
    "y, tX, ids = load_csv_data(DATA_TRAIN_PATH)\n",
    "\n",
    "#seperating the data within the four groups (with respect to the jet_number)\n",
    "jet_groups_indices = [tX[:, PRI_JET_NUM_IDX] == pri_jet_num_value for pri_jet_num_value in PRI_JET_NUM_VALUES]\n",
    "TX_arr = [tX[group_indices] for group_indices in jet_groups_indices]\n",
    "Y_arr, TX_arr = zip(*[(y[group_indices], tX[group_indices]) for group_indices in jet_groups_indices])\n",
    "Y_arr, TX_arr = list(Y_arr), list(TX_arr)\n",
    "\n",
    "#collecting the indices of the undefined features for each group\n",
    "undefined_features = [[], [], [], []]\n",
    "for group_idx in range(NUMBER_GROUPS):\n",
    "    tx = TX_arr[group_idx]\n",
    "    for feature_idx in range(NBR_FEATURES):\n",
    "        feature_column = tx[:, feature_idx]\n",
    "        if np.all(feature_column == UNDEFINED_VALUE):\n",
    "            undefined_features[group_idx].append(feature_idx)\n",
    "\n",
    "#computing the std of the features for each group\n",
    "STDS = [np.std(TX_arr[i], axis = 0) for i in range(NUMBER_GROUPS)]\n",
    "\n",
    "#collecting the indices of the features with no variance (i.e. constant features) within each groups\n",
    "cst_features = [[], [], [], []]\n",
    "for group_idx, elem in enumerate(STDS):\n",
    "    for feature_idx, std in enumerate(elem):\n",
    "        if std == 0. and feature_idx not in undefined_features[group_idx]:\n",
    "            cst_features[group_idx].append(feature_idx)\n",
    "\n",
    "#deleting the features either undefined or with no variance (i.e. constant features) within each groups\n",
    "features_to_keep = ([[x for x in range(NBR_FEATURES) \n",
    "                      if x not in undefined_features[group_idx] and x not in cst_features[group_idx]] \n",
    "                      for group_idx in range(NUMBER_GROUPS)])\n",
    "TX_arr = [TX_arr[group_idx][:, features_to_keep[group_idx]] for group_idx in range(NUMBER_GROUPS)]\n",
    "\n",
    "#computing the median of each feature and substituting it instead of undefined values\n",
    "train_medians = []\n",
    "for group_idx in range(NUMBER_GROUPS):\n",
    "    medians = np.apply_along_axis(lambda v: np.median(v[v!=UNDEFINED_VALUE]), 0, TX_arr[group_idx])\n",
    "    train_medians.append(medians)\n",
    "    for col_num in range(TX_arr[group_idx].shape[1]):\n",
    "        column = TX_arr[group_idx][:, col_num]\n",
    "        column[column == UNDEFINED_VALUE] = medians[col_num]\n",
    "\n",
    "#standardizing the data\n",
    "def standardize(x):\n",
    "    centered_data = x - np.mean(x, axis=0)\n",
    "    std_data = centered_data / np.std(centered_data, axis=0)\n",
    "    return std_data\n",
    "\n",
    "TX_arr = [standardize(TX_arr[idx]) for idx in range(NUMBER_GROUPS)]"
   ]
  },
  {
   "cell_type": "markdown",
   "metadata": {},
   "source": [
    "### test data : loading and feature engineering"
   ]
  },
  {
   "cell_type": "code",
   "execution_count": 27,
   "metadata": {},
   "outputs": [],
   "source": [
    "#loading the test data \n",
    "DATA_TEST_PATH = '../data/test.csv'\n",
    "_, tX_test, ids_test = load_csv_data(DATA_TEST_PATH)\n",
    "\n",
    "#seperating the data within the four groups (with respect to the jet_number)\n",
    "jet_groups_indices_test = [tX_test[:, PRI_JET_NUM_IDX] == pri_jet_num_value for pri_jet_num_value in PRI_JET_NUM_VALUES]\n",
    "TX_test_arr = list([tX_test[group_indices] for group_indices in jet_groups_indices_test])\n",
    "\n",
    "#removing unused features (using the indices found during the processing of the training data)\n",
    "TX_test_arr = [TX_test_arr[group_idx][:, features_to_keep[group_idx]] for group_idx in range(NUMBER_GROUPS)]\n",
    "\n",
    "#replacing the the undefined values by the median of the corresponding feature\n",
    "for group_idx in range(NUMBER_GROUPS):\n",
    "    for col_num in range(TX_test_arr[group_idx].shape[1]):\n",
    "        column = TX_test_arr[group_idx][:, col_num]\n",
    "        column[column == UNDEFINED_VALUE] = train_medians[group_idx][col_num]\n",
    "\n",
    "#standardizing the data\n",
    "TX_test_arr = [standardize(TX_test_arr[idx]) for idx in range(NUMBER_GROUPS)]"
   ]
  },
  {
   "cell_type": "markdown",
   "metadata": {},
   "source": [
    "### best parameters selection : cross-validation"
   ]
  },
  {
   "cell_type": "code",
   "execution_count": 29,
   "metadata": {},
   "outputs": [
    {
     "name": "stdout",
     "output_type": "stream",
     "text": [
      "    Current iteration=0, loss=[[51940.29082808]]\n",
      "    Current iteration=1000, loss=[[952925.44361433]]\n",
      "    Current iteration=0, loss=[[51940.29082808]]\n",
      "    Current iteration=1000, loss=[[1068939.12836857]]\n",
      "    Current iteration=0, loss=[[51940.29082808]]\n",
      "    Current iteration=1000, loss=[[972891.60358377]]\n",
      "    Current iteration=0, loss=[[51940.29082808]]\n",
      "    Current iteration=1000, loss=[[975340.65282257]]\n",
      " ---> for group 0, the obtained best degree is 2 and lambda is 0.001\n",
      "    Current iteration=0, loss=[[40312.05372701]]\n",
      "    Current iteration=1000, loss=[[813021.77125258]]\n",
      "    Current iteration=0, loss=[[40312.05372701]]\n",
      "    Current iteration=1000, loss=[[779704.38813297]]\n",
      "    Current iteration=0, loss=[[40312.05372701]]\n",
      "    Current iteration=1000, loss=[[792154.05662968]]\n",
      "    Current iteration=0, loss=[[40312.05372701]]\n",
      "    Current iteration=1000, loss=[[779277.89327428]]\n",
      " ---> for group 1, the obtained best degree is 2 and lambda is 0.001\n",
      "    Current iteration=0, loss=[[26188.48677592]]\n",
      "    Current iteration=1000, loss=[[1705169.27424959]]\n",
      "    Current iteration=0, loss=[[26188.48677592]]\n",
      "    Current iteration=1000, loss=[[1683049.4328446]]\n",
      "    Current iteration=0, loss=[[26188.48677592]]\n",
      "    Current iteration=1000, loss=[[1691755.12467157]]\n",
      "    Current iteration=0, loss=[[26188.48677592]]\n",
      "    Current iteration=1000, loss=[[1644100.8790184]]\n",
      " ---> for group 2, the obtained best degree is 2 and lambda is 0.001\n",
      "    Current iteration=0, loss=[[11522.18558245]]\n",
      "    Current iteration=1000, loss=[[1173575.15711843]]\n",
      "    Current iteration=0, loss=[[11522.18558245]]\n",
      "    Current iteration=1000, loss=[[215375.86595958]]\n",
      "    Current iteration=0, loss=[[11522.18558245]]\n",
      "    Current iteration=1000, loss=[[218742.1435032]]\n",
      "    Current iteration=0, loss=[[11522.18558245]]\n",
      "    Current iteration=1000, loss=[[1090680.04971021]]\n",
      " ---> for group 3, the obtained best degree is 2 and lambda is 0.001\n",
      "CPU times: user 11min 44s, sys: 5.12 s, total: 11min 49s\n",
      "Wall time: 2min 57s\n"
     ]
    }
   ],
   "source": [
    "%%time\n",
    "\n",
    "seed = 15\n",
    "#degrees= [1, 2, 6]\n",
    "#k_fold = 4\n",
    "#max_iters = 2_000\n",
    "#lambdas = np.logspace(-7, 2, 5)\n",
    "#gammas = np.logspace(-6, -2, 5)\n",
    "    \n",
    "degrees= [2]\n",
    "k_fold = 4\n",
    "max_iters = 2_000\n",
    "lambdas =[1e-3]\n",
    "gammas = [1e-2]   \n",
    "    \n",
    "    \n",
    "PARAM_arr = []\n",
    "\n",
    "for group_idx in range(NUMBER_GROUPS):\n",
    "    y=np.array(Y_arr[group_idx])\n",
    "    y[y == - 1.0] = 0.0\n",
    "    tX=np.array(TX_arr[group_idx])\n",
    "    initial_w = np.zeros(len(features_to_keep[group_idx]))\n",
    "    degree, gamma, lambda_ = cross_validation_demo_reg_logistic(y, tX, max_iters, seed, degrees, k_fold, lambdas, gammas)\n",
    "    PARAM_arr.append((degree, lambda_))\n",
    "    print(f\" ---> for group {group_idx}, the obtained best degree is {degree} and lambda is {lambda_}\")"
   ]
  },
  {
   "cell_type": "markdown",
   "metadata": {},
   "source": [
    "### training and generating the predictions"
   ]
  },
  {
   "cell_type": "code",
   "execution_count": 21,
   "metadata": {},
   "outputs": [],
   "source": [
    "PARAM_arr = [(1, 0.001, 0.01), (1, 0.01, 0.001), (2, 0.01, 0.01), (1, 0.01, 0.01)] "
   ]
  },
  {
   "cell_type": "code",
   "execution_count": 22,
   "metadata": {},
   "outputs": [
    {
     "name": "stdout",
     "output_type": "stream",
     "text": [
      "    Current iteration=0, loss=[[69254.41425129]]\n"
     ]
    },
    {
     "name": "stderr",
     "output_type": "stream",
     "text": [
      "/home/miguel/MA_I/machine_learning__(CS-433)/project/ml_project_1/scripts/implementations.py:39: RuntimeWarning: overflow encountered in exp\n",
      "  return 1.0 / (1 + np.exp(-t))\n"
     ]
    },
    {
     "name": "stdout",
     "output_type": "stream",
     "text": [
      "    Current iteration=1000, loss=[[549630.13489449]]\n",
      "    Current iteration=2000, loss=[[549630.13375641]]\n",
      "    Current iteration=3000, loss=[[549630.13375386]]\n",
      "    Current iteration=4000, loss=[[549630.13375298]]\n",
      "    Current iteration=0, loss=[[53749.40496934]]\n",
      "    Current iteration=1000, loss=[[2493429.54409721]]\n",
      "    Current iteration=2000, loss=[[2493429.54407204]]\n",
      "    Current iteration=3000, loss=[[2493429.54406212]]\n",
      "    Current iteration=4000, loss=[[2493429.54405241]]\n",
      "    Current iteration=0, loss=[[34920.06180943]]\n",
      "    Current iteration=1000, loss=[[1898403.40528716]]\n",
      "    Current iteration=2000, loss=[[1898462.85541471]]\n",
      "    Current iteration=3000, loss=[[1914180.40885871]]\n",
      "    Current iteration=4000, loss=[[1922592.13204248]]\n",
      "    Current iteration=0, loss=[[15362.91410993]]\n",
      "    Current iteration=1000, loss=[[658573.11190147]]\n",
      "    Current iteration=2000, loss=[[658573.10509506]]\n",
      "    Current iteration=3000, loss=[[658573.10509496]]\n",
      "    Current iteration=4000, loss=[[658573.10509496]]\n"
     ]
    }
   ],
   "source": [
    "#training model and generating the predictions for each group\n",
    "y_pred = np.empty(tX_test.shape[0])\n",
    "for group_idx in range(NUMBER_GROUPS):\n",
    "    #training\n",
    "    max_iters = 5_000\n",
    "    degree = PARAM_arr[group_idx][0]\n",
    "    gamma = PARAM_arr[group_idx][1]\n",
    "    lambda_ = PARAM_arr[group_idx][2]\n",
    "    tx_train = build_poly(TX_arr[group_idx], degree)\n",
    "    y_train = Y_arr[group_idx]\n",
    "    y_train[y_train == -1.0] = 0.0\n",
    "    initial_w = np.zeros((tx_train.shape[1], 1))  \n",
    "    weight, loss = reg_logistic_regression(y_train, tx_train, lambda_, initial_w, max_iters, gamma)\n",
    "    \n",
    "    #prediction\n",
    "    tx_test = build_poly(TX_test_arr[group_idx], PARAM_arr[group_idx][0])\n",
    "    y_pred[jet_groups_indices_test[group_idx]] = predict_labels(weight, tx_test).flatten()\n",
    "\n",
    "#creating csv file\n",
    "OUTPUT_PATH = '../data/sample-submission_regularized_with_standardization.csv'\n",
    "create_csv_submission(ids_test, y_pred, OUTPUT_PATH)"
   ]
  }
 ],
 "metadata": {
  "kernelspec": {
   "display_name": "Python 3",
   "language": "python",
   "name": "python3"
  },
  "language_info": {
   "codemirror_mode": {
    "name": "ipython",
    "version": 3
   },
   "file_extension": ".py",
   "mimetype": "text/x-python",
   "name": "python",
   "nbconvert_exporter": "python",
   "pygments_lexer": "ipython3",
   "version": "3.8.5"
  }
 },
 "nbformat": 4,
 "nbformat_minor": 4
}
