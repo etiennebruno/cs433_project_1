{
 "cells": [
  {
   "cell_type": "markdown",
   "metadata": {},
   "source": [
    "# RIDGE REGRESSION"
   ]
  },
  {
   "cell_type": "markdown",
   "metadata": {},
   "source": [
    "### imports"
   ]
  },
  {
   "cell_type": "code",
   "execution_count": 1,
   "metadata": {},
   "outputs": [
    {
     "data": {
      "text/html": [
       "<style>.container { width:95% !important; }</style>"
      ],
      "text/plain": [
       "<IPython.core.display.HTML object>"
      ]
     },
     "metadata": {},
     "output_type": "display_data"
    }
   ],
   "source": [
    "import numpy as np\n",
    "import matplotlib.pyplot as plt\n",
    "from proj1_helpers import *\n",
    "from implementations import *\n",
    "from IPython.core.display import display, HTML\n",
    "\n",
    "%matplotlib inline\n",
    "%load_ext autoreload\n",
    "%autoreload 2\n",
    "display(HTML(\"<style>.container { width:95% !important; }</style>\"))"
   ]
  },
  {
   "cell_type": "markdown",
   "metadata": {},
   "source": [
    "### constants definition"
   ]
  },
  {
   "cell_type": "code",
   "execution_count": 2,
   "metadata": {},
   "outputs": [],
   "source": [
    "#constants definitions\n",
    "PRI_JET_NUM_IDX = 22   \n",
    "PRI_JET_NUM_VALUES = range(4)\n",
    "NUMBER_GROUPS = len(PRI_JET_NUM_VALUES)\n",
    "NBR_FEATURES = 30\n",
    "UNDEFINED_VALUE = -999."
   ]
  },
  {
   "cell_type": "markdown",
   "metadata": {},
   "source": [
    "### training data : loading and feature engineering"
   ]
  },
  {
   "cell_type": "code",
   "execution_count": 3,
   "metadata": {},
   "outputs": [],
   "source": [
    "#loading the training data\n",
    "DATA_TRAIN_PATH = '../data/train.csv'\n",
    "y, tX, ids = load_csv_data(DATA_TRAIN_PATH)\n",
    "\n",
    "#seperating the data within the four groups (with respect to the jet_number)\n",
    "jet_groups_indices = [tX[:, PRI_JET_NUM_IDX] == pri_jet_num_value for pri_jet_num_value in PRI_JET_NUM_VALUES]\n",
    "TX_arr = [tX[group_indices] for group_indices in jet_groups_indices]\n",
    "Y_arr, TX_arr = zip(*[(y[group_indices], tX[group_indices]) for group_indices in jet_groups_indices])\n",
    "Y_arr, TX_arr = list(Y_arr), list(TX_arr)\n",
    "\n",
    "#collecting the indices of the undefined features for each group\n",
    "undefined_features = [[], [], [], []]\n",
    "for group_idx in range(NUMBER_GROUPS):\n",
    "    tx = TX_arr[group_idx]\n",
    "    for feature_idx in range(NBR_FEATURES):\n",
    "        feature_column = tx[:, feature_idx]\n",
    "        if np.all(feature_column == UNDEFINED_VALUE):\n",
    "            undefined_features[group_idx].append(feature_idx)\n",
    "\n",
    "#computing the std of the features for each group\n",
    "STDS = [np.std(TX_arr[i], axis = 0) for i in range(NUMBER_GROUPS)]\n",
    "\n",
    "#collecting the indices of the features with no variance (i.e. constant features) within each groups\n",
    "cst_features = [[], [], [], []]\n",
    "for group_idx, elem in enumerate(STDS):\n",
    "    for feature_idx, std in enumerate(elem):\n",
    "        if std == 0. and feature_idx not in undefined_features[group_idx]:\n",
    "            cst_features[group_idx].append(feature_idx)\n",
    "\n",
    "#deleting the features either undefined or with no variance (i.e. constant features) within each groups\n",
    "features_to_keep = ([[x for x in range(NBR_FEATURES) \n",
    "                      if x not in undefined_features[group_idx] and x not in cst_features[group_idx]] \n",
    "                      for group_idx in range(NUMBER_GROUPS)])\n",
    "TX_arr = [TX_arr[group_idx][:, features_to_keep[group_idx]] for group_idx in range(NUMBER_GROUPS)]\n",
    "\n",
    "#computing the median of each feature and substituting it instead of undefined values\n",
    "train_medians = []\n",
    "for group_idx in range(NUMBER_GROUPS):\n",
    "    medians = np.apply_along_axis(lambda v: np.median(v[v!=UNDEFINED_VALUE]), 0, TX_arr[group_idx])\n",
    "    train_medians.append(medians)\n",
    "    for col_num in range(TX_arr[group_idx].shape[1]):\n",
    "        column = TX_arr[group_idx][:, col_num]\n",
    "        column[column == UNDEFINED_VALUE] = medians[col_num]\n",
    "\n",
    "#standardizing the data\n",
    "#TX_arr = [standardize(TX_arr[idx]) for idx in range(NUMBER_GROUPS)]\n",
    "\n",
    "#applying a logarithmic transformation to the data\n",
    "for group_idx in range(NUMBER_GROUPS):\n",
    "    for idx_line in range(TX_arr[group_idx].shape[0]):\n",
    "        for idx_col in range(TX_arr[group_idx].shape[1]):\n",
    "            if TX_arr[group_idx][idx_line][idx_col] == 0:\n",
    "                TX_arr[group_idx][idx_line][idx_col] = np.log(1e-6)         \n",
    "            elif TX_arr[group_idx][idx_line][idx_col] < 0:\n",
    "                TX_arr[group_idx][idx_line][idx_col] = - np.log(-TX_arr[group_idx][idx_line][idx_col])\n",
    "            else: \n",
    "                TX_arr[group_idx][idx_line][idx_col] = np.log(TX_arr[group_idx][idx_line][idx_col])\n"
   ]
  },
  {
   "cell_type": "markdown",
   "metadata": {},
   "source": [
    "### test data : loading and feature engineering"
   ]
  },
  {
   "cell_type": "code",
   "execution_count": 5,
   "metadata": {},
   "outputs": [],
   "source": [
    "#loading the test data \n",
    "DATA_TEST_PATH = '../data/test.csv'\n",
    "_, tX_test, ids_test = load_csv_data(DATA_TEST_PATH)\n",
    "\n",
    "#seperating the data within the four groups (with respect to the jet_number)\n",
    "jet_groups_indices_test = [tX_test[:, PRI_JET_NUM_IDX] == pri_jet_num_value for pri_jet_num_value in PRI_JET_NUM_VALUES]\n",
    "TX_test_arr = list([tX_test[group_indices] for group_indices in jet_groups_indices_test])\n",
    "\n",
    "#removing unused features (using the indices found during the processing of the training data)\n",
    "TX_test_arr = [TX_test_arr[group_idx][:, features_to_keep[group_idx]] for group_idx in range(NUMBER_GROUPS)]\n",
    "\n",
    "#replacing the the undefined values by the median of the corresponding feature\n",
    "for group_idx in range(NUMBER_GROUPS):\n",
    "    for col_num in range(TX_test_arr[group_idx].shape[1]):\n",
    "        column = TX_test_arr[group_idx][:, col_num]\n",
    "        column[column == UNDEFINED_VALUE] = train_medians[group_idx][col_num]\n",
    "\n",
    "#standardizing the data\n",
    "#TX_test_arr = [standardize(TX_test_arr[idx]) for idx in range(NUMBER_GROUPS)]\n",
    "\n",
    "#applying a logarithmic transformation to the data\n",
    "for group_idx in range(NUMBER_GROUPS):\n",
    "    for idx_line in range(TX_test_arr[group_idx].shape[0]):\n",
    "        for idx_col in range(TX_test_arr[group_idx].shape[1]):\n",
    "            if TX_test_arr[group_idx][idx_line][idx_col] == 0:\n",
    "                TX_test_arr[group_idx][idx_line][idx_col] = np.log(1e-6)         \n",
    "            elif TX_test_arr[group_idx][idx_line][idx_col] < 0:\n",
    "                TX_test_arr[group_idx][idx_line][idx_col] = - np.log(-TX_test_arr[group_idx][idx_line][idx_col])\n",
    "            else: \n",
    "                TX_test_arr[group_idx][idx_line][idx_col] = np.log(TX_test_arr[group_idx][idx_line][idx_col])"
   ]
  },
  {
   "cell_type": "markdown",
   "metadata": {},
   "source": [
    "### best parameters selection : cross-validation"
   ]
  },
  {
   "cell_type": "code",
   "execution_count": 13,
   "metadata": {},
   "outputs": [
    {
     "name": "stdout",
     "output_type": "stream",
     "text": [
      " ---> for group 0, the obtained best degree is 7 and lambda is 9.236708571873846e-13\n",
      " ---> for group 1, the obtained best degree is 4 and lambda is 3.0391953823131948e-15\n",
      " ---> for group 2, the obtained best degree is 4 and lambda is 3.290344562312671e-11\n",
      " ---> for group 3, the obtained best degree is 4 and lambda is 4.893900918477499e-09\n",
      "CPU times: user 36min 32s, sys: 29.4 s, total: 37min 2s\n",
      "Wall time: 12min 54s\n"
     ]
    }
   ],
   "source": [
    "%%time\n",
    "\n",
    "seed = 15\n",
    "degrees = range(1, 15)\n",
    "k_fold = 4\n",
    "lambdas = np.logspace(-17, -8, 60)\n",
    "PARAM_arr = []\n",
    "\n",
    "for group_idx in range(NUMBER_GROUPS):\n",
    "    degree, lambda_ = cross_validation_demo_ridge(Y_arr[group_idx], TX_arr[group_idx], seed, degrees, k_fold, lambdas)\n",
    "    PARAM_arr.append((degree, lambda_))\n",
    "    print(f\" ---> for group {group_idx}, the obtained best degree is {degree} and lambda is {lambda_}\")"
   ]
  },
  {
   "cell_type": "markdown",
   "metadata": {},
   "source": [
    "### training and generating the predictions"
   ]
  },
  {
   "cell_type": "code",
   "execution_count": 14,
   "metadata": {},
   "outputs": [],
   "source": [
    "#training model and generating the predictions for each group\n",
    "y_pred = np.empty(tX_test.shape[0])\n",
    "for group_idx in range(NUMBER_GROUPS):\n",
    "    #training\n",
    "    tx_train = build_poly(TX_arr[group_idx], PARAM_arr[group_idx][0])\n",
    "    y_train = Y_arr[group_idx]\n",
    "    lambda_ = PARAM_arr[group_idx][1]\n",
    "    weight, loss = ridge_regression(y_train, tx_train, lambda_)\n",
    "    \n",
    "    #prediction\n",
    "    tx_test = build_poly(TX_test_arr[group_idx], PARAM_arr[group_idx][0])\n",
    "    y_pred[jet_groups_indices_test[group_idx]] = predict_labels(weight, tx_test).flatten()\n",
    "\n",
    "#creating csv file\n",
    "OUTPUT_PATH = '../data/sample-submission_ridge_log_transformation.csv'\n",
    "create_csv_submission(ids_test, y_pred, OUTPUT_PATH)"
   ]
  }
 ],
 "metadata": {
  "kernelspec": {
   "display_name": "Python 3",
   "language": "python",
   "name": "python3"
  },
  "language_info": {
   "codemirror_mode": {
    "name": "ipython",
    "version": 3
   },
   "file_extension": ".py",
   "mimetype": "text/x-python",
   "name": "python",
   "nbconvert_exporter": "python",
   "pygments_lexer": "ipython3",
   "version": "3.8.5"
  }
 },
 "nbformat": 4,
 "nbformat_minor": 4
}
