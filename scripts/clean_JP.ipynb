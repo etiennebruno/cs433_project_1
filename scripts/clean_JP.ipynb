{
 "cells": [
  {
   "cell_type": "code",
   "execution_count": 1,
   "metadata": {},
   "outputs": [
    {
     "data": {
      "text/html": [
       "<style>.container { width:95% !important; }</style>"
      ],
      "text/plain": [
       "<IPython.core.display.HTML object>"
      ]
     },
     "metadata": {},
     "output_type": "display_data"
    }
   ],
   "source": [
    "# Useful starting lines\n",
    "%matplotlib inline\n",
    "import numpy as np\n",
    "import matplotlib.pyplot as plt\n",
    "%load_ext autoreload\n",
    "%autoreload 2\n",
    "from proj1_helpers import *\n",
    "from implementations import *\n",
    "\n",
    "from IPython.core.display import display, HTML\n",
    "display(HTML(\"<style>.container { width:95% !important; }</style>\"))\n",
    "\n",
    "#import warnings\n",
    "#warnings.filterwarnings('ignore')"
   ]
  },
  {
   "cell_type": "code",
   "execution_count": 2,
   "metadata": {},
   "outputs": [],
   "source": [
    "# Constants\n",
    "UNDEFINED_VALUE = -999."
   ]
  },
  {
   "cell_type": "markdown",
   "metadata": {},
   "source": [
    "## WITHOUT SPLITTING THE DATA"
   ]
  },
  {
   "cell_type": "code",
   "execution_count": 13,
   "metadata": {},
   "outputs": [
    {
     "name": "stdout",
     "output_type": "stream",
     "text": [
      "undefined values in dataset:  False\n",
      "undefined values in dataset:  False\n",
      "CPU times: user 29 s, sys: 2.16 s, total: 31.1 s\n",
      "Wall time: 30.1 s\n"
     ]
    }
   ],
   "source": [
    "%%time\n",
    "# Load train data and supply path\n",
    "DATA_TRAIN_PATH = '../data/train.csv'\n",
    "y, tX, ids = load_csv_data(DATA_TRAIN_PATH)\n",
    "\n",
    "#computing median values for each column (excluding undefined values)\n",
    "medians = np.apply_along_axis(lambda v: np.median(v[v!=UNDEFINED_VALUE]), 0, tX)\n",
    "\n",
    "#substituting median instead of undefined values\n",
    "for col_num in range(tX.shape[1]):\n",
    "    column = tX[:, col_num]\n",
    "    column[column == UNDEFINED_VALUE] = medians[col_num]\n",
    "print(\"undefined values in dataset: \", UNDEFINED_VALUE in tX)\n",
    "\n",
    "##standardizing the data\n",
    "#tX -= np.mean(tX, axis = 0)\n",
    "#tX /= np.std(tX, axis = 0)\n",
    "\n",
    "# train data\n",
    "weight, loss = ridge_regression(y, tX, 0.00)\n",
    "\n",
    "#loading the test data and creating the groups\n",
    "DATA_TEST_PATH = '../data/test.csv' # TODO: download test data and supply path here \n",
    "_, tX_test, ids_test = load_csv_data(DATA_TEST_PATH)\n",
    "\n",
    "#substituting median instead of undefined values\n",
    "for col_num in range(tX_test.shape[1]):\n",
    "    column = tX[:, col_num]\n",
    "    column[column == UNDEFINED_VALUE] = medians[col_num]\n",
    "print(\"undefined values in dataset: \", UNDEFINED_VALUE in tX)\n",
    "\n",
    "##standardizing the data\n",
    "#tX_test -= np.mean(tX_test, axis = 0)\n",
    "#tX_test /= np.std(tX_test, axis = 0)\n",
    "\n",
    "y_pred = predict_labels(weight, tX_test).flatten()\n",
    "\n",
    "#creating csv file\n",
    "OUTPUT_PATH = '../data/sample-submission_ridge.csv'\n",
    "create_csv_submission(ids_test, y_pred, OUTPUT_PATH)"
   ]
  },
  {
   "cell_type": "markdown",
   "metadata": {},
   "source": [
    "## SPLITTING THE DATA BY JET NUMBER"
   ]
  },
  {
   "cell_type": "code",
   "execution_count": 59,
   "metadata": {},
   "outputs": [],
   "source": [
    "def standardize(x):\n",
    "    ''' fill your code in here...\n",
    "    '''\n",
    "    centered_data = x - np.mean(x, axis=0)\n",
    "    std_data = centered_data / np.std(centered_data, axis=0)\n",
    "    \n",
    "    return std_data"
   ]
  },
  {
   "cell_type": "code",
   "execution_count": 64,
   "metadata": {
    "scrolled": false
   },
   "outputs": [
    {
     "name": "stdout",
     "output_type": "stream",
     "text": [
      "undefined values in dataset 0 ?  False\n",
      "undefined values in dataset 1 ?  False\n",
      "undefined values in dataset 2 ?  False\n",
      "undefined values in dataset 3 ?  False\n",
      "undefined values in dataset 0 ?  False\n",
      "undefined values in dataset 1 ?  False\n",
      "undefined values in dataset 2 ?  False\n",
      "undefined values in dataset 3 ?  False\n",
      "CPU times: user 29.9 s, sys: 2.42 s, total: 32.3 s\n",
      "Wall time: 31.9 s\n"
     ]
    }
   ],
   "source": [
    "%%time\n",
    "\n",
    "\n",
    "##############################################################################\n",
    "#------------------- DATA CLEANING & FEATURE ENGINEERING ---------------------\n",
    "##############################################################################\n",
    "# Load train data and supply path\n",
    "DATA_TRAIN_PATH = '../data/train.csv'\n",
    "y, tX, ids = load_csv_data(DATA_TRAIN_PATH)\n",
    "\n",
    "#constants definitions\n",
    "PRI_JET_NUM_IDX = 22   \n",
    "PRI_JET_NUM_VALUES = range(4)\n",
    "NUMBER_GROUPS = len(PRI_JET_NUM_VALUES)\n",
    "NBR_FEATURES = 30\n",
    "UNDEFINED_VALUE = -999.\n",
    "\n",
    "#seperating the data within the four groups\n",
    "jet_groups_indices = [tX[:, PRI_JET_NUM_IDX] == pri_jet_num_value for pri_jet_num_value in PRI_JET_NUM_VALUES]\n",
    "TX_arr = [tX[group_indices] for group_indices in jet_groups_indices]\n",
    "Y_arr, TX_arr = zip(*[(y[group_indices], tX[group_indices]) for group_indices in jet_groups_indices])\n",
    "Y_arr, TX_arr = list(Y_arr), list(TX_arr)\n",
    "\n",
    "#collecting the indices of the undefined features for each group\n",
    "undefined_features = [[], [], [], []]\n",
    "for group_idx in range(NUMBER_GROUPS):\n",
    "    tx = TX_arr[group_idx]\n",
    "    for feature_idx in range(NBR_FEATURES):\n",
    "        feature_column = tx[:, feature_idx]\n",
    "        if np.all(feature_column == UNDEFINED_VALUE):\n",
    "            undefined_features[group_idx].append(feature_idx)\n",
    "\n",
    "#computing the std of the features for each group\n",
    "STDS = [np.std(TX_arr[i], axis = 0) for i in range(NUMBER_GROUPS)]\n",
    "\n",
    "#collecting the indices of the features with no variance (i.e. constant features) within each groups\n",
    "cst_features = [[], [], [], []]\n",
    "for group_idx, elem in enumerate(STDS):\n",
    "    for feature_idx, std in enumerate(elem):\n",
    "        if std == 0. and feature_idx not in undefined_features[group_idx]:\n",
    "            cst_features[group_idx].append(feature_idx)\n",
    "\n",
    "#deleting the features either undefined or with no variance (i.e. constant features) within each groups\n",
    "features_to_keep = ([[x for x in range(NBR_FEATURES) \n",
    "                      if x not in undefined_features[group_idx] and x not in cst_features[group_idx]] \n",
    "                      for group_idx in range(NUMBER_GROUPS)])\n",
    "TX_arr = [TX_arr[group_idx][:, features_to_keep[group_idx]] for group_idx in range(NUMBER_GROUPS)]\n",
    "\n",
    "# Store the computed medians of the training set\n",
    "# to be used in the data set when substituing UNDEFINED_VALUES\n",
    "train_medians = []\n",
    "for group_idx in range(NUMBER_GROUPS):\n",
    "    #computing median values for each column (excluding undefined values)\n",
    "    medians = np.apply_along_axis(lambda v: np.median(v[v!=UNDEFINED_VALUE]), 0, TX_arr[group_idx])\n",
    "    train_medians.append(medians)\n",
    "    #substituting median instead of undefined values\n",
    "    for col_num in range(TX_arr[group_idx].shape[1]):\n",
    "        column = TX_arr[group_idx][:, col_num]\n",
    "        column[column == UNDEFINED_VALUE] = medians[col_num]\n",
    "    print(f\"undefined values in dataset {group_idx} ? \", UNDEFINED_VALUE in TX_arr[group_idx])\n",
    "\n",
    "#standardizing the data\n",
    "#TX_arr = [standardize(TX_arr[idx]) for idx in range(NUMBER_GROUPS)]\n",
    "\n",
    "    \n",
    "##############################################################################\n",
    "#----------------------------- TEST DATA CLEANING ----------------------------\n",
    "##############################################################################\n",
    "#loading the test data and creating the groups\n",
    "DATA_TEST_PATH = '../data/test.csv'\n",
    "_, tX_test, ids_test = load_csv_data(DATA_TEST_PATH)\n",
    "jet_groups_indices_test = [tX_test[:, PRI_JET_NUM_IDX] == pri_jet_num_value for pri_jet_num_value in PRI_JET_NUM_VALUES]\n",
    "TX_test_arr = list([tX_test[group_indices] for group_indices in jet_groups_indices_test])\n",
    "\n",
    "#remove unused features\n",
    "TX_test_arr = [TX_test_arr[group_idx][:, features_to_keep[group_idx]] for group_idx in range(NUMBER_GROUPS)]\n",
    "\n",
    "# subsitute UNDEFINED VALUES of the test set by the medians previously computed\n",
    "for group_idx in range(NUMBER_GROUPS):\n",
    "    #substituting median instead of undefined values\n",
    "    for col_num in range(TX_test_arr[group_idx].shape[1]):\n",
    "        column = TX_test_arr[group_idx][:, col_num]\n",
    "        column[column == UNDEFINED_VALUE] = train_medians[group_idx][col_num]\n",
    "    print(f\"undefined values in dataset {group_idx} ? \", UNDEFINED_VALUE in TX_test_arr[group_idx])\n",
    "\n",
    "#standardizing the data\n",
    "#TX_test_arr = [standardize(TX_test_arr[idx]) for idx in range(NUMBER_GROUPS)]\n",
    "\n",
    "##############################################################################\n",
    "#------------------------------ TRAIN AND PREDICT ----------------------------\n",
    "##############################################################################\n",
    "# train model & generate predictions\n",
    "y_pred=np.empty(tX_test.shape[0])\n",
    "for group_idx in range(NUMBER_GROUPS):\n",
    "    weight, loss = ridge_regression(Y_arr[group_idx], TX_arr[group_idx], 0.00)\n",
    "    #weight, loss = least_squares(Y_arr[group_idx], TX_arr[group_idx])\n",
    "    y_pred[jet_groups_indices_test[group_idx]] = predict_labels(weight, TX_test_arr[group_idx]).flatten()\n",
    "\n",
    "#creating csv file\n",
    "OUTPUT_PATH = '../data/sample-submission_ridge_23_13_heures.csv'\n",
    "create_csv_submission(ids_test, y_pred, OUTPUT_PATH)"
   ]
  },
  {
   "cell_type": "code",
   "execution_count": null,
   "metadata": {},
   "outputs": [],
   "source": []
  },
  {
   "cell_type": "code",
   "execution_count": null,
   "metadata": {},
   "outputs": [],
   "source": [
    "import pandas as pd\n",
    "import seaborn as sns\n",
    "import matplotlib.pyplot as plt\n",
    "\n",
    "sns.set_theme(style=\"white\")\n",
    "\n",
    "# Generate a large random dataset\n",
    "rs = np.random.RandomState(33)\n",
    "d = pd.DataFrame(data=tX)\n",
    "\n",
    "# Compute the correlation matrix\n",
    "corr = d.corr()\n",
    "\n",
    "# Generate a mask for the upper triangle\n",
    "mask = np.triu(np.ones_like(corr, dtype=bool))\n",
    "\n",
    "# Set up the matplotlib figure\n",
    "f, ax = plt.subplots(figsize=(11, 9))\n",
    "\n",
    "# Generate a custom diverging colormap\n",
    "cmap = sns.diverging_palette(230, 20, as_cmap=True)\n",
    "\n",
    "# Draw the heatmap with the mask and correct aspect ratio\n",
    "sns.heatmap(corr, mask=mask, cmap=cmap, vmax=.3, center=0,\n",
    "            square=True, linewidths=.5, cbar_kws={\"shrink\": .5})"
   ]
  },
  {
   "cell_type": "code",
   "execution_count": null,
   "metadata": {},
   "outputs": [],
   "source": [
    "import pandas as pd\n",
    "import seaborn as sns\n",
    "import matplotlib.pyplot as plt\n",
    "\n",
    "sns.set_theme(style=\"white\")\n",
    "\n",
    "# Generate a large random dataset\n",
    "rs = np.random.RandomState(33)\n",
    "d = pd.DataFrame(data=tX_test)\n",
    "\n",
    "# Compute the correlation matrix\n",
    "corr = d.corr()\n",
    "\n",
    "# Generate a mask for the upper triangle\n",
    "mask = np.triu(np.ones_like(corr, dtype=bool))\n",
    "\n",
    "# Set up the matplotlib figure\n",
    "f, ax = plt.subplots(figsize=(11, 9))\n",
    "\n",
    "# Generate a custom diverging colormap\n",
    "cmap = sns.diverging_palette(230, 20, as_cmap=True)\n",
    "\n",
    "# Draw the heatmap with the mask and correct aspect ratio\n",
    "sns.heatmap(corr, mask=mask, cmap=cmap, vmax=.3, center=0,\n",
    "            square=True, linewidths=.5, cbar_kws={\"shrink\": .5})"
   ]
  }
 ],
 "metadata": {
  "kernelspec": {
   "display_name": "Python 3",
   "language": "python",
   "name": "python3"
  },
  "language_info": {
   "codemirror_mode": {
    "name": "ipython",
    "version": 3
   },
   "file_extension": ".py",
   "mimetype": "text/x-python",
   "name": "python",
   "nbconvert_exporter": "python",
   "pygments_lexer": "ipython3",
   "version": "3.8.5"
  }
 },
 "nbformat": 4,
 "nbformat_minor": 4
}
